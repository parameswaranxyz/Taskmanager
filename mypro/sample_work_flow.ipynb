{
 "cells": [
  {
   "cell_type": "heading",
   "metadata": {},
   "level": 1,
   "source": [
    "Settings.py"
   ]
  },
  {
   "cell_type": "markdown",
   "metadata": {
    "collapsed": true
   },
   "source": [
    "Add app in the setting :"
   ]
  },
  {
   "cell_type": "markdown",
   "metadata": {},
   "source": [
    "INSTALLED_APPS = [\n",
    "    'django.contrib.admin',\n",
    "    'django.contrib.auth',\n",
    "    'django.contrib.contenttypes',\n",
    "    'django.contrib.sessions',\n",
    "    'django.contrib.messages',\n",
    "    'django.contrib.staticfiles',\n",
    "    'Task_manager.apps.TaskManagerConfig',\n",
    "]"
   ]
  },
  {
   "cell_type": "markdown",
   "metadata": {},
   "source": [
    "Add database configuration:"
   ]
  },
  {
   "cell_type": "markdown",
   "metadata": {},
   "source": [
    "\n",
    "    DATABASES = {\n",
    "\n",
    "    'default': {\n",
    "        'ENGINE': 'django.db.backends.postgresql',\n",
    "        'NAME': 'Taskmanager',\n",
    "        'USER': 'postgres',\n",
    "        'PASSWORD': 'siva15mx21',\n",
    "        'HOST': '127.0.0.1',\n",
    "        'PORT': '5432',\n",
    "    }\n",
    "\n",
    "}"
   ]
  },
  {
   "cell_type": "markdown",
   "metadata": {},
   "source": [
    "Add static url: ( Used for add img, js and css like static files )\n"
   ]
  },
  {
   "cell_type": "markdown",
   "metadata": {},
   "source": [
    "\n",
    "    STATIC_URL = '/static/'\n",
    "\n",
    "    STATICFILES_DIRS = [\n",
    "        os.path.join(BASE_DIR, \"static\"),\n",
    "    ]\n"
   ]
  },
  {
   "cell_type": "markdown",
   "metadata": {},
   "source": [
    "Add Template libraries:"
   ]
  },
  {
   "cell_type": "markdown",
   "metadata": {},
   "source": [
    "TEMPLATES = [\n",
    "    {\n",
    "        'BACKEND':'django.template.backends.jinja2.Jinja2',\n",
    "        'DIRS': [],\n",
    "        'APP_DIRS': True,\n",
    "        },\n",
    "    {\n",
    "        'BACKEND': 'django.template.backends.django.DjangoTemplates',\n",
    "        'DIRS': [],\n",
    "        'APP_DIRS': True,\n",
    "        'OPTIONS': {\n",
    "            'context_processors': [\n",
    "                'django.template.context_processors.debug',\n",
    "                'django.template.context_processors.request',\n",
    "                'django.contrib.auth.context_processors.auth',\n",
    "                'django.contrib.messages.context_processors.messages',\n",
    "            ],\n",
    "        },\n",
    "    },\n",
    "]\n"
   ]
  },
  {
   "cell_type": "markdown",
   "metadata": {},
   "source": [
    "asinda"
   ]
  },
  {
   "cell_type": "markdown",
   "metadata": {},
   "source": []
  },
  {
   "cell_type": "heading",
   "metadata": {},
   "level": 1,
   "source": [
    "Creat application by using \"Python manage.py create app\""
   ]
  },
  {
   "cell_type": "markdown",
   "metadata": {},
   "source": [
    "Inside tha App folder create file \n",
    "    * urls.py (As i said before)\n",
    "    * folder static (we metion this in the setting as we are going to use this folder \n",
    "\t\t\tfor static fiels like images, css,js.. etc)\n"
   ]
  },
  {
   "cell_type": "markdown",
   "metadata": {},
   "source": [
    "If you want admin login u can add this module inside the admin.py\n",
    "\n",
    "\tadmin.site.register(TaskEntry)\n",
    "\n",
    "After that u can login into the admin module by run server(localhost/admin)\t\n",
    "\n",
    "If you have any table in sql you can edit anything from the admin module After migration."
   ]
  },
  {
   "cell_type": "markdown",
   "metadata": {},
   "source": [
    "urls.py\n",
    "    we can give endpoints normally\n",
    "\n",
    "    urlpatterns = [\n",
    "    path('', views.index, name='index'),\n",
    "    path('add', views.add, name='add'),\n",
    "]\n"
   ]
  },
  {
   "cell_type": "markdown",
   "metadata": {},
   "source": [
    "models.py\n",
    "        \n",
    "    creat your models with migrations (Database fileds)\n",
    "    And you can write functions as your needs (Database querying)"
   ]
  },
  {
   "cell_type": "markdown",
   "metadata": {},
   "source": [
    "form.py\n",
    "    can add the form fileds and validations here:\n",
    "    "
   ]
  },
  {
   "cell_type": "markdown",
   "metadata": {},
   "source": []
  },
  {
   "cell_type": "markdown",
   "metadata": {},
   "source": [
    "Continue................"
   ]
  }
 ],
 "metadata": {
  "kernelspec": {
   "display_name": "Python 2",
   "language": "python",
   "name": "python2"
  },
  "language_info": {
   "codemirror_mode": {
    "name": "ipython",
    "version": 2
   },
   "file_extension": ".py",
   "mimetype": "text/x-python",
   "name": "python",
   "nbconvert_exporter": "python",
   "pygments_lexer": "ipython2",
   "version": "2.7.6"
  }
 },
 "nbformat": 4,
 "nbformat_minor": 0
}
